{
  "cells": [
    {
      "cell_type": "raw",
      "metadata": {},
      "source": [
        "---\n",
        "title: \"Yiwei Qi\"\n",
        "format:\n",
        "  html:\n",
        "    embed-resources: true\n",
        "    toc: true\n",
        "code-fold: true\n",
        "---"
      ],
      "id": "baf09174"
    },
    {
      "cell_type": "markdown",
      "metadata": {},
      "source": [
        "# Part 2: Vehicle Registration Counts by State\n",
        "\n",
        "  In the previous section, we obtained a comprehensive overview of global new energy vehicle market sales and inventories. The United States is an important market for new energy vehicles. In this section, we will focus on the domestic market in the United States and provide a detailed analysis of the registration trends of new energy vehicles in each state from 2016 to 2022. \n",
        "\n",
        "  Data can be downloaded here: https://afdc.energy.gov/vehicle-registration\n"
      ],
      "id": "b3e9aa06"
    },
    {
      "cell_type": "code",
      "metadata": {},
      "source": [
        "import numpy as np\n",
        "import pandas as pd\n",
        "file_path = 'data/registration_data.xlsx'\n",
        "data = pd.read_excel(file_path)"
      ],
      "id": "1991f5c1",
      "execution_count": null,
      "outputs": []
    },
    {
      "cell_type": "code",
      "metadata": {},
      "source": [
        "import warnings\n",
        "warnings.filterwarnings('ignore')\n",
        "\n",
        "import pandas as pd\n",
        "import plotly.graph_objects as go\n",
        "\n",
        "def prepare_new_energy_data(df):\n",
        "    new_energy_types = ['Electric (EV)', 'Plug-In Hybrid Electric (PHEV)', 'Hydrogen']\n",
        "    df['Total New Energy Registrations'] = df[new_energy_types].sum(axis=1)\n",
        "    return df[['State', 'Year', 'Total New Energy Registrations']]\n",
        "\n",
        "new_energy_data = prepare_new_energy_data(data)\n",
        "\n",
        "def create_interactive_new_energy_chart(df):\n",
        "    fig = go.Figure()\n",
        "\n",
        "    states = df['State'].unique()\n",
        "    for state in states:\n",
        "        state_data = df[df['State'] == state]\n",
        "        fig.add_trace(\n",
        "            go.Scatter(\n",
        "                x=state_data['Year'],\n",
        "                y=state_data['Total New Energy Registrations'],\n",
        "                mode='lines+markers',\n",
        "                name=state\n",
        "            )\n",
        "        )\n",
        "\n",
        "    steps = []\n",
        "    for i, state in enumerate(states):\n",
        "        step = dict(\n",
        "            method='update',\n",
        "            args=[{'visible': [state == s for s in states]},\n",
        "                  {'title': f'{state} - Total New Energy Vehicle Registrations Per Year'}],\n",
        "            label=state\n",
        "        )\n",
        "        steps.append(step)\n",
        "\n",
        "    sliders = [dict(\n",
        "        active=0,\n",
        "        currentvalue={\"prefix\": \"State: \"},\n",
        "        steps=steps\n",
        "    )]\n",
        "\n",
        "    fig.update_layout(\n",
        "        sliders=sliders,\n",
        "        title='Total New Energy Vehicle Registrations Per Year',\n",
        "        xaxis_title='Year',\n",
        "        yaxis_title='Total Registrations'\n",
        "    )\n",
        "\n",
        "    for i, state in enumerate(states):\n",
        "        fig.data[i].visible = (i == 0)\n",
        "\n",
        "    return fig\n",
        "\n",
        "chart = create_interactive_new_energy_chart(new_energy_data)\n",
        "chart.show()"
      ],
      "id": "9a35b8f8",
      "execution_count": null,
      "outputs": []
    },
    {
      "cell_type": "markdown",
      "metadata": {},
      "source": [
        "  By analyzing the data during this period, wwe can observe that the number of new energy vehicle registrations in all states in the United States has shown significant year-on-year growth. This trend not only reflects the development of the maturity of new energy vehicle technology and the increase in market acceptance, but also reflects consumers' increasing preference for environmentally friendly travel options. Next, we’ll compare differences in registrations between states.\n"
      ],
      "id": "41428f71"
    },
    {
      "cell_type": "code",
      "metadata": {},
      "source": [
        "def prepare_new_energy_data(df):\n",
        "    new_energy_types = ['Electric (EV)', 'Plug-In Hybrid Electric (PHEV)', 'Hydrogen']\n",
        "    df['Total New Energy Registrations'] = df[new_energy_types].sum(axis=1)\n",
        "    return df[['State', 'Year', 'Total New Energy Registrations']]\n",
        "\n",
        "def create_interactive_new_energy_chart(df):\n",
        "    top_states = df.groupby('State')['Total New Energy Registrations'].sum().nlargest(10).index\n",
        "\n",
        "    df_top = df[df['State'].isin(top_states)]\n",
        "    \n",
        "    fig = go.Figure()\n",
        "\n",
        "    for state in top_states:\n",
        "        state_data = df_top[df_top['State'] == state]\n",
        "        fig.add_trace(\n",
        "            go.Scatter(\n",
        "                x=state_data['Year'],\n",
        "                y=state_data['Total New Energy Registrations'],\n",
        "                mode='lines+markers',\n",
        "                name=state\n",
        "            )\n",
        "        )\n",
        "\n",
        "    fig.update_layout(\n",
        "        title='Top 10 States - Total New Energy Vehicle Registrations Per Year',\n",
        "        xaxis_title='Year',\n",
        "        yaxis_title='Total Registrations',\n",
        "        legend_title=\"State\"\n",
        "    )\n",
        "\n",
        "    return fig\n",
        "\n",
        "new_energy_data = prepare_new_energy_data(data)\n",
        "chart = create_interactive_new_energy_chart(new_energy_data)\n",
        "chart.show()"
      ],
      "id": "3d8b94c9",
      "execution_count": null,
      "outputs": []
    },
    {
      "cell_type": "markdown",
      "metadata": {},
      "source": [
        "The figure shows the growth trend of the top ten states in the United States in total new energy vehicle registrations from 2016 to 2022. It can be seen that compared with other states, California has the characteristics of rapid growth and large size. Below we will take California as an example for further analysis.\n",
        "\n",
        "\n",
        "我不写总结段了因为子宁写了承上启下的开头。"
      ],
      "id": "64454a55"
    }
  ],
  "metadata": {
    "kernelspec": {
      "name": "python3",
      "language": "python",
      "display_name": "Python 3 (ipykernel)"
    }
  },
  "nbformat": 4,
  "nbformat_minor": 5
}